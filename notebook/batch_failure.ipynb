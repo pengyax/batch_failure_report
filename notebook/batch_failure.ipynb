{
 "cells": [
  {
   "cell_type": "code",
   "execution_count": 57,
   "metadata": {},
   "outputs": [
    {
     "name": "stdout",
     "output_type": "stream",
     "text": [
      "The autoreload extension is already loaded. To reload it, use:\n",
      "  %reload_ext autoreload\n"
     ]
    }
   ],
   "source": [
    "import sys\n",
    "import pandas as pd\n",
    "import numpy as np\n",
    "from datetime import datetime,timedelta\n",
    "sys.path.append('../scripts')\n",
    "from sql_engine import connect\n",
    "import batch_failure as bf\n",
    "%load_ext autoreload\n",
    "%autoreload 2"
   ]
  },
  {
   "cell_type": "code",
   "execution_count": 58,
   "metadata": {},
   "outputs": [],
   "source": [
    "fn_engine = connect('fn_mysql')\n",
    "sql_query = r'''\n",
    "                select\n",
    "                ID,\n",
    "                `PO Number`,\n",
    "                `Lot Number`,\n",
    "                `Vendor Code`,\n",
    "                Vendor,\n",
    "                Division,\n",
    "                `Inspection Date`,\n",
    "                Inspector,\n",
    "                `Item Number`,\n",
    "                Results,\n",
    "                `Reject Code`,\n",
    "                `Reject Description`,\n",
    "                `Comments`,\n",
    "                `Path`\n",
    "            from\n",
    "                inspection_data_all\n",
    "            where 1 = 1\n",
    "            and `Inspection Date` >= '2023-07-01'\n",
    "            and Results = 'R'\n",
    "            and `Reject Description` like '%%100\\%%%%'\n",
    "            order by `Inspection Date`   \n",
    "            '''"
   ]
  },
  {
   "cell_type": "code",
   "execution_count": 59,
   "metadata": {},
   "outputs": [],
   "source": [
    "df_add = pd.read_sql(sql_query,fn_engine)\n",
    "df_old = pd.read_excel('../data_input/Rejection_data.xlsx')"
   ]
  },
  {
   "cell_type": "code",
   "execution_count": 60,
   "metadata": {},
   "outputs": [],
   "source": [
    "df_QIM_duplicate = (\n",
    "    df_add\n",
    "    .query('Path.str.startswith(\"QIM\",na=False)')\n",
    "    .sort_values(['ID','Inspection Date'],ascending=[False,False])\n",
    "    .drop_duplicates(subset=['ID'],keep='last')\n",
    "    )"
   ]
  },
  {
   "cell_type": "code",
   "execution_count": 61,
   "metadata": {},
   "outputs": [],
   "source": [
    "df_offline_duplicate = (\n",
    "    df_add\n",
    "    .query('~Path.str.startswith(\"QIM\",na=False)')\n",
    "    .sort_values(['ID','Inspection Date'],ascending=[False,False])\n",
    "    .drop_duplicates(subset=['Lot Number','Vendor','Item Number','Inspector','Inspection Date'],keep='last')\n",
    "    )"
   ]
  },
  {
   "cell_type": "code",
   "execution_count": 62,
   "metadata": {},
   "outputs": [],
   "source": [
    "df_duplicate = pd.concat([df_QIM_duplicate,df_offline_duplicate],ignore_index=True)"
   ]
  },
  {
   "cell_type": "code",
   "execution_count": 63,
   "metadata": {},
   "outputs": [],
   "source": [
    "df_duplicate = (\n",
    "    df_duplicate\n",
    "    .rename(columns={'Comments':'Disposition'})\n",
    "    .assign(Supervisor = np.nan)\n",
    "    .loc[:,['ID','Inspection Date','Supervisor','Inspector','Vendor Code','Vendor','Division','Item Number','PO Number','Lot Number','Reject Code','Reject Description','Disposition']]\n",
    ")"
   ]
  },
  {
   "cell_type": "code",
   "execution_count": 80,
   "metadata": {},
   "outputs": [
    {
     "ename": "TypeError",
     "evalue": "apply() takes from 2 to 4 positional arguments but 174 were given",
     "output_type": "error",
     "traceback": [
      "\u001b[1;31m---------------------------------------------------------------------------\u001b[0m",
      "\u001b[1;31mTypeError\u001b[0m                                 Traceback (most recent call last)",
      "\u001b[1;32mc:\\Medline\\batch_failure_report\\notebook\\batch_failure.ipynb 单元格 8\u001b[0m in \u001b[0;36m<cell line: 2>\u001b[1;34m()\u001b[0m\n\u001b[0;32m      <a href='vscode-notebook-cell:/c%3A/Medline/batch_failure_report/notebook/batch_failure.ipynb#X15sZmlsZQ%3D%3D?line=0'>1</a>\u001b[0m (\n\u001b[1;32m----> <a href='vscode-notebook-cell:/c%3A/Medline/batch_failure_report/notebook/batch_failure.ipynb#X15sZmlsZQ%3D%3D?line=1'>2</a>\u001b[0m     df_old\n\u001b[0;32m      <a href='vscode-notebook-cell:/c%3A/Medline/batch_failure_report/notebook/batch_failure.ipynb#X15sZmlsZQ%3D%3D?line=2'>3</a>\u001b[0m     \u001b[39m.\u001b[39;49mloc[:,[\u001b[39m'\u001b[39;49m\u001b[39mID\u001b[39;49m\u001b[39m'\u001b[39;49m,\u001b[39m'\u001b[39;49m\u001b[39mInspection Date\u001b[39;49m\u001b[39m'\u001b[39;49m,\u001b[39m'\u001b[39;49m\u001b[39mSupervisor\u001b[39;49m\u001b[39m'\u001b[39;49m,\u001b[39m'\u001b[39;49m\u001b[39mInspector\u001b[39;49m\u001b[39m'\u001b[39;49m,\u001b[39m'\u001b[39;49m\u001b[39mVendor Code\u001b[39;49m\u001b[39m'\u001b[39;49m,\u001b[39m'\u001b[39;49m\u001b[39mVendor\u001b[39;49m\u001b[39m'\u001b[39;49m,\u001b[39m'\u001b[39;49m\u001b[39mDivision\u001b[39;49m\u001b[39m'\u001b[39;49m,\u001b[39m'\u001b[39;49m\u001b[39mItem Number\u001b[39;49m\u001b[39m'\u001b[39;49m,\u001b[39m'\u001b[39;49m\u001b[39mPO Number\u001b[39;49m\u001b[39m'\u001b[39;49m,\u001b[39m'\u001b[39;49m\u001b[39mLot Number\u001b[39;49m\u001b[39m'\u001b[39;49m,\u001b[39m'\u001b[39;49m\u001b[39mReject Code\u001b[39;49m\u001b[39m'\u001b[39;49m,\u001b[39m'\u001b[39;49m\u001b[39mReject Description\u001b[39;49m\u001b[39m'\u001b[39;49m,\u001b[39m'\u001b[39;49m\u001b[39mDisposition\u001b[39;49m\u001b[39m'\u001b[39;49m]]\n\u001b[0;32m      <a href='vscode-notebook-cell:/c%3A/Medline/batch_failure_report/notebook/batch_failure.ipynb#X15sZmlsZQ%3D%3D?line=3'>4</a>\u001b[0m     \u001b[39m.\u001b[39;49mquery(\u001b[39m'\u001b[39;49m\u001b[39m`Reject Description`.str.contains(\u001b[39;49m\u001b[39m\"\u001b[39;49m\u001b[39m100\u001b[39;49m\u001b[39m%\u001b[39;49m\u001b[39m\"\u001b[39;49m\u001b[39m,na=False,case=False)\u001b[39;49m\u001b[39m'\u001b[39;49m)\n\u001b[0;32m      <a href='vscode-notebook-cell:/c%3A/Medline/batch_failure_report/notebook/batch_failure.ipynb#X15sZmlsZQ%3D%3D?line=4'>5</a>\u001b[0m     \u001b[39m.\u001b[39;49mpipe(\u001b[39mlambda\u001b[39;49;00m d : pd\u001b[39m.\u001b[39;49mconcat([d,df_duplicate],ignore_index\u001b[39m=\u001b[39;49m\u001b[39mTrue\u001b[39;49;00m))\n\u001b[0;32m      <a href='vscode-notebook-cell:/c%3A/Medline/batch_failure_report/notebook/batch_failure.ipynb#X15sZmlsZQ%3D%3D?line=5'>6</a>\u001b[0m     \u001b[39m.\u001b[39;49massign(Division \u001b[39m=\u001b[39;49m \u001b[39mlambda\u001b[39;49;00m d : d\u001b[39m.\u001b[39;49mDivision\u001b[39m.\u001b[39;49mastype(\u001b[39mstr\u001b[39;49m))\n\u001b[0;32m      <a href='vscode-notebook-cell:/c%3A/Medline/batch_failure_report/notebook/batch_failure.ipynb#X15sZmlsZQ%3D%3D?line=6'>7</a>\u001b[0m     \u001b[39m.\u001b[39;49massign(Division \u001b[39m=\u001b[39;49m \u001b[39mlambda\u001b[39;49;00m d : d\u001b[39m.\u001b[39;49mDivision\u001b[39m.\u001b[39;49mapply(bf\u001b[39m.\u001b[39;49mextract_division),\n\u001b[0;32m      <a href='vscode-notebook-cell:/c%3A/Medline/batch_failure_report/notebook/batch_failure.ipynb#X15sZmlsZQ%3D%3D?line=7'>8</a>\u001b[0m             Comments \u001b[39m=\u001b[39;49m \u001b[39mlambda\u001b[39;49;00m d : d[\u001b[39m'\u001b[39;49m\u001b[39mDisposition\u001b[39;49m\u001b[39m'\u001b[39;49m]\u001b[39m.\u001b[39;49mapply(bf\u001b[39m.\u001b[39;49mgenerate_remark,\u001b[39m*\u001b[39;49md[\u001b[39m'\u001b[39;49m\u001b[39mDisposition\u001b[39;49m\u001b[39m'\u001b[39;49m])\n\u001b[0;32m      <a href='vscode-notebook-cell:/c%3A/Medline/batch_failure_report/notebook/batch_failure.ipynb#X15sZmlsZQ%3D%3D?line=8'>9</a>\u001b[0m             )\n\u001b[0;32m     <a href='vscode-notebook-cell:/c%3A/Medline/batch_failure_report/notebook/batch_failure.ipynb#X15sZmlsZQ%3D%3D?line=9'>10</a>\u001b[0m )\n",
      "File \u001b[1;32m~\\AppData\\Roaming\\Python\\Python38\\site-packages\\pandas\\core\\frame.py:4506\u001b[0m, in \u001b[0;36mDataFrame.assign\u001b[1;34m(self, **kwargs)\u001b[0m\n\u001b[0;32m   4503\u001b[0m data \u001b[39m=\u001b[39m \u001b[39mself\u001b[39m\u001b[39m.\u001b[39mcopy()\n\u001b[0;32m   4505\u001b[0m \u001b[39mfor\u001b[39;00m k, v \u001b[39min\u001b[39;00m kwargs\u001b[39m.\u001b[39mitems():\n\u001b[1;32m-> 4506\u001b[0m     data[k] \u001b[39m=\u001b[39m com\u001b[39m.\u001b[39;49mapply_if_callable(v, data)\n\u001b[0;32m   4507\u001b[0m \u001b[39mreturn\u001b[39;00m data\n",
      "File \u001b[1;32m~\\AppData\\Roaming\\Python\\Python38\\site-packages\\pandas\\core\\common.py:358\u001b[0m, in \u001b[0;36mapply_if_callable\u001b[1;34m(maybe_callable, obj, **kwargs)\u001b[0m\n\u001b[0;32m    347\u001b[0m \u001b[39m\"\"\"\u001b[39;00m\n\u001b[0;32m    348\u001b[0m \u001b[39mEvaluate possibly callable input using obj and kwargs if it is callable,\u001b[39;00m\n\u001b[0;32m    349\u001b[0m \u001b[39motherwise return as it is.\u001b[39;00m\n\u001b[1;32m   (...)\u001b[0m\n\u001b[0;32m    355\u001b[0m \u001b[39m**kwargs\u001b[39;00m\n\u001b[0;32m    356\u001b[0m \u001b[39m\"\"\"\u001b[39;00m\n\u001b[0;32m    357\u001b[0m \u001b[39mif\u001b[39;00m callable(maybe_callable):\n\u001b[1;32m--> 358\u001b[0m     \u001b[39mreturn\u001b[39;00m maybe_callable(obj, \u001b[39m*\u001b[39;49m\u001b[39m*\u001b[39;49mkwargs)\n\u001b[0;32m    360\u001b[0m \u001b[39mreturn\u001b[39;00m maybe_callable\n",
      "\u001b[1;32mc:\\Medline\\batch_failure_report\\notebook\\batch_failure.ipynb 单元格 8\u001b[0m in \u001b[0;36m<lambda>\u001b[1;34m(d)\u001b[0m\n\u001b[0;32m      <a href='vscode-notebook-cell:/c%3A/Medline/batch_failure_report/notebook/batch_failure.ipynb#X15sZmlsZQ%3D%3D?line=0'>1</a>\u001b[0m (\n\u001b[0;32m      <a href='vscode-notebook-cell:/c%3A/Medline/batch_failure_report/notebook/batch_failure.ipynb#X15sZmlsZQ%3D%3D?line=1'>2</a>\u001b[0m     df_old\n\u001b[0;32m      <a href='vscode-notebook-cell:/c%3A/Medline/batch_failure_report/notebook/batch_failure.ipynb#X15sZmlsZQ%3D%3D?line=2'>3</a>\u001b[0m     \u001b[39m.\u001b[39mloc[:,[\u001b[39m'\u001b[39m\u001b[39mID\u001b[39m\u001b[39m'\u001b[39m,\u001b[39m'\u001b[39m\u001b[39mInspection Date\u001b[39m\u001b[39m'\u001b[39m,\u001b[39m'\u001b[39m\u001b[39mSupervisor\u001b[39m\u001b[39m'\u001b[39m,\u001b[39m'\u001b[39m\u001b[39mInspector\u001b[39m\u001b[39m'\u001b[39m,\u001b[39m'\u001b[39m\u001b[39mVendor Code\u001b[39m\u001b[39m'\u001b[39m,\u001b[39m'\u001b[39m\u001b[39mVendor\u001b[39m\u001b[39m'\u001b[39m,\u001b[39m'\u001b[39m\u001b[39mDivision\u001b[39m\u001b[39m'\u001b[39m,\u001b[39m'\u001b[39m\u001b[39mItem Number\u001b[39m\u001b[39m'\u001b[39m,\u001b[39m'\u001b[39m\u001b[39mPO Number\u001b[39m\u001b[39m'\u001b[39m,\u001b[39m'\u001b[39m\u001b[39mLot Number\u001b[39m\u001b[39m'\u001b[39m,\u001b[39m'\u001b[39m\u001b[39mReject Code\u001b[39m\u001b[39m'\u001b[39m,\u001b[39m'\u001b[39m\u001b[39mReject Description\u001b[39m\u001b[39m'\u001b[39m,\u001b[39m'\u001b[39m\u001b[39mDisposition\u001b[39m\u001b[39m'\u001b[39m]]\n\u001b[0;32m      <a href='vscode-notebook-cell:/c%3A/Medline/batch_failure_report/notebook/batch_failure.ipynb#X15sZmlsZQ%3D%3D?line=3'>4</a>\u001b[0m     \u001b[39m.\u001b[39mquery(\u001b[39m'\u001b[39m\u001b[39m`Reject Description`.str.contains(\u001b[39m\u001b[39m\"\u001b[39m\u001b[39m100\u001b[39m\u001b[39m%\u001b[39m\u001b[39m\"\u001b[39m\u001b[39m,na=False,case=False)\u001b[39m\u001b[39m'\u001b[39m)\n\u001b[0;32m      <a href='vscode-notebook-cell:/c%3A/Medline/batch_failure_report/notebook/batch_failure.ipynb#X15sZmlsZQ%3D%3D?line=4'>5</a>\u001b[0m     \u001b[39m.\u001b[39mpipe(\u001b[39mlambda\u001b[39;00m d : pd\u001b[39m.\u001b[39mconcat([d,df_duplicate],ignore_index\u001b[39m=\u001b[39m\u001b[39mTrue\u001b[39;00m))\n\u001b[0;32m      <a href='vscode-notebook-cell:/c%3A/Medline/batch_failure_report/notebook/batch_failure.ipynb#X15sZmlsZQ%3D%3D?line=5'>6</a>\u001b[0m     \u001b[39m.\u001b[39massign(Division \u001b[39m=\u001b[39m \u001b[39mlambda\u001b[39;00m d : d\u001b[39m.\u001b[39mDivision\u001b[39m.\u001b[39mastype(\u001b[39mstr\u001b[39m))\n\u001b[0;32m      <a href='vscode-notebook-cell:/c%3A/Medline/batch_failure_report/notebook/batch_failure.ipynb#X15sZmlsZQ%3D%3D?line=6'>7</a>\u001b[0m     \u001b[39m.\u001b[39massign(Division \u001b[39m=\u001b[39m \u001b[39mlambda\u001b[39;00m d : d\u001b[39m.\u001b[39mDivision\u001b[39m.\u001b[39mapply(bf\u001b[39m.\u001b[39mextract_division),\n\u001b[1;32m----> <a href='vscode-notebook-cell:/c%3A/Medline/batch_failure_report/notebook/batch_failure.ipynb#X15sZmlsZQ%3D%3D?line=7'>8</a>\u001b[0m             Comments \u001b[39m=\u001b[39m \u001b[39mlambda\u001b[39;00m d : d[\u001b[39m'\u001b[39;49m\u001b[39mDisposition\u001b[39;49m\u001b[39m'\u001b[39;49m]\u001b[39m.\u001b[39;49mapply(bf\u001b[39m.\u001b[39;49mgenerate_remark,\u001b[39m*\u001b[39;49md[\u001b[39m'\u001b[39;49m\u001b[39mDisposition\u001b[39;49m\u001b[39m'\u001b[39;49m])\n\u001b[0;32m      <a href='vscode-notebook-cell:/c%3A/Medline/batch_failure_report/notebook/batch_failure.ipynb#X15sZmlsZQ%3D%3D?line=8'>9</a>\u001b[0m             )\n\u001b[0;32m     <a href='vscode-notebook-cell:/c%3A/Medline/batch_failure_report/notebook/batch_failure.ipynb#X15sZmlsZQ%3D%3D?line=9'>10</a>\u001b[0m )\n",
      "\u001b[1;31mTypeError\u001b[0m: apply() takes from 2 to 4 positional arguments but 174 were given"
     ]
    }
   ],
   "source": [
    "(\n",
    "    df_old\n",
    "    .loc[:,['ID','Inspection Date','Supervisor','Inspector','Vendor Code','Vendor','Division','Item Number','PO Number','Lot Number','Reject Code','Reject Description','Disposition']]\n",
    "    .query('`Reject Description`.str.contains(\"100%\",na=False,case=False)')\n",
    "    .pipe(lambda d : pd.concat([d,df_duplicate],ignore_index=True))\n",
    "    .assign(Division = lambda d : d.Division.astype(str))\n",
    "    .assign(Division = lambda d : d.Division.apply(bf.extract_division),\n",
    "            Comments = lambda d : d['Disposition'].apply(bf.generate_remark,*d['Disposition'])\n",
    "            )\n",
    ")"
   ]
  },
  {
   "cell_type": "code",
   "execution_count": null,
   "metadata": {},
   "outputs": [],
   "source": []
  }
 ],
 "metadata": {
  "kernelspec": {
   "display_name": "Python 3",
   "language": "python",
   "name": "python3"
  },
  "language_info": {
   "codemirror_mode": {
    "name": "ipython",
    "version": 3
   },
   "file_extension": ".py",
   "mimetype": "text/x-python",
   "name": "python",
   "nbconvert_exporter": "python",
   "pygments_lexer": "ipython3",
   "version": "3.8.0"
  },
  "orig_nbformat": 4
 },
 "nbformat": 4,
 "nbformat_minor": 2
}
