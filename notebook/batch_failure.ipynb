{
 "cells": [
  {
   "cell_type": "code",
   "execution_count": 58,
   "metadata": {},
   "outputs": [
    {
     "name": "stdout",
     "output_type": "stream",
     "text": [
      "The autoreload extension is already loaded. To reload it, use:\n",
      "  %reload_ext autoreload\n"
     ]
    }
   ],
   "source": [
    "import sys\n",
    "import pandas as pd\n",
    "import numpy as np\n",
    "from datetime import datetime,timedelta\n",
    "sys.path.append('../scripts')\n",
    "from sql_engine import connect\n",
    "import batch_failure as bf\n",
    "%load_ext autoreload\n",
    "%autoreload 2"
   ]
  },
  {
   "cell_type": "code",
   "execution_count": 59,
   "metadata": {},
   "outputs": [],
   "source": [
    "vendor_mapping = pd.read_excel(r'C:\\Medline\\CPM\\data\\vendor_mapping\\Vendor _mapping 2023_v1.xlsx')\n",
    "vendor_mapping_dict = dict(zip(vendor_mapping['Vendor Number'],vendor_mapping['Supervisor']))\n",
    "    "
   ]
  },
  {
   "cell_type": "code",
   "execution_count": 60,
   "metadata": {},
   "outputs": [],
   "source": [
    "fn_engine = connect('fn_mysql')\n",
    "sql_query = r'''\n",
    "                select\n",
    "                ID,\n",
    "                `PO Number`,\n",
    "                `Lot Number`,\n",
    "                `Vendor Code`,\n",
    "                Vendor,\n",
    "                Division,\n",
    "                `Inspection Date`,\n",
    "                Inspector,\n",
    "                `Item Number`,\n",
    "                Results,\n",
    "                `Reject Code`,\n",
    "                `Reject Description`,\n",
    "                `Comments`,\n",
    "                `Path`\n",
    "            from\n",
    "                inspection_data_all\n",
    "            where 1 = 1\n",
    "            and `Inspection Date` >= '2023-07-01'\n",
    "            and Results = 'R'\n",
    "            and `Reject Description` like '%%100\\%%%%'\n",
    "            order by `Inspection Date`   \n",
    "            '''"
   ]
  },
  {
   "cell_type": "code",
   "execution_count": 61,
   "metadata": {},
   "outputs": [],
   "source": [
    "df_add = pd.read_sql(sql_query,fn_engine)\n",
    "df_old = pd.read_excel('../data_input/Rejection_data.xlsx')"
   ]
  },
  {
   "cell_type": "code",
   "execution_count": 62,
   "metadata": {},
   "outputs": [],
   "source": [
    "df_QIM_duplicate = (\n",
    "    df_add\n",
    "    .query('Path.str.startswith(\"QIM\",na=False)')\n",
    "    .sort_values(['ID','Inspection Date'],ascending=[False,False])\n",
    "    .drop_duplicates(subset=['ID'],keep='last')\n",
    "    )"
   ]
  },
  {
   "cell_type": "code",
   "execution_count": 63,
   "metadata": {},
   "outputs": [],
   "source": [
    "df_offline_duplicate = (\n",
    "    df_add\n",
    "    .query('~Path.str.startswith(\"QIM\",na=False)')\n",
    "    .sort_values(['ID','Inspection Date'],ascending=[False,False])\n",
    "    .drop_duplicates(subset=['Lot Number','Vendor','Item Number','Inspector','Inspection Date'],keep='last')\n",
    "    )"
   ]
  },
  {
   "cell_type": "code",
   "execution_count": 64,
   "metadata": {},
   "outputs": [],
   "source": [
    "df_duplicate = pd.concat([df_QIM_duplicate,df_offline_duplicate],ignore_index=True)"
   ]
  },
  {
   "cell_type": "code",
   "execution_count": 65,
   "metadata": {},
   "outputs": [],
   "source": [
    "df_duplicate = (\n",
    "    df_duplicate\n",
    "    .rename(columns={'Comments':'Disposition'})\n",
    "    .assign(Supervisor = np.nan)\n",
    "    .loc[:,['ID','Inspection Date','Supervisor','Inspector','Vendor Code','Vendor','Division','Item Number','PO Number','Lot Number','Reject Code','Reject Description','Disposition']]\n",
    ")"
   ]
  },
  {
   "cell_type": "code",
   "execution_count": 66,
   "metadata": {},
   "outputs": [],
   "source": [
    "(\n",
    "    df_old\n",
    "    .loc[:,['ID','Inspection Date','Supervisor','Inspector','Vendor Code','Vendor','Division','Item Number','PO Number','Lot Number','Reject Code','Reject Description','Disposition']]\n",
    "    .query('`Reject Description`.str.contains(\"100%\",na=False,case=False)')\n",
    "    .pipe(lambda d : pd.concat([d,df_duplicate],ignore_index=True))\n",
    "    .assign(Division = lambda d : d.Division.astype(str))\n",
    "    .assign(Division = lambda d : d.Division.apply(bf.extract_division),\n",
    "            Comments = lambda d : d['Disposition'].apply(bf.generate_remark),\n",
    "            Supervisor = lambda d : d.apply(lambda s : vendor_mapping_dict.get(int(s['Vendor Code'])) if pd.isna(s['Supervisor']) else s['Supervisor'], axis = 1),\n",
    "            Market = lambda d : d.Division.apply(bf.get_market)\n",
    "            )\n",
    "    \n",
    "    .to_excel('../data_output/out.xlsx',index= False)\n",
    "    \n",
    ")"
   ]
  },
  {
   "cell_type": "code",
   "execution_count": null,
   "metadata": {},
   "outputs": [],
   "source": []
  }
 ],
 "metadata": {
  "kernelspec": {
   "display_name": "Python 3",
   "language": "python",
   "name": "python3"
  },
  "language_info": {
   "codemirror_mode": {
    "name": "ipython",
    "version": 3
   },
   "file_extension": ".py",
   "mimetype": "text/x-python",
   "name": "python",
   "nbconvert_exporter": "python",
   "pygments_lexer": "ipython3",
   "version": "3.8.0"
  },
  "orig_nbformat": 4
 },
 "nbformat": 4,
 "nbformat_minor": 2
}
